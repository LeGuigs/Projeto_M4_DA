{
  "nbformat": 4,
  "nbformat_minor": 0,
  "metadata": {
    "colab": {
      "name": "Notebook_Projeto_M4_Grupo4_ANP.ipynb",
      "provenance": [],
      "authorship_tag": "ABX9TyMyHnVOOnbnng0f3GUEuPrg",
      "include_colab_link": true
    },
    "kernelspec": {
      "name": "python3",
      "display_name": "Python 3"
    },
    "language_info": {
      "name": "python"
    }
  },
  "cells": [
    {
      "cell_type": "markdown",
      "metadata": {
        "id": "view-in-github",
        "colab_type": "text"
      },
      "source": [
        "<a href=\"https://colab.research.google.com/github/RaianPorto/Projeto_M4_DA/blob/branch-Raian/Notebook_Projeto_M4_Grupo4_ANP.ipynb\" target=\"_parent\"><img src=\"https://colab.research.google.com/assets/colab-badge.svg\" alt=\"Open In Colab\"/></a>"
      ]
    },
    {
      "cell_type": "markdown",
      "metadata": {
        "id": "RSH4pg5LORp7"
      },
      "source": [
        "#**DATA ANALYTICS: Analisando os Dados da ANP**\n",
        "\n",
        "---\n",
        "\n",
        "*Projeto Módulo 4 | Guilherme Rezende, Letícia Felippe, Liora Dopacio, Tatiany Castelhano, Raian Porto*\n",
        "\n",
        "---\n",
        "\n",
        "\n",
        "<img alt=\"Colaboratory logo\" width=\"100%\" src=\"https://clickpetroleoegas.com.br/wp-content/uploads/2020/10/ANP-860x483.jpeg\">\n",
        "\n",
        "\n",
        "\n"
      ]
    },
    {
      "cell_type": "markdown",
      "source": [
        "**Metodologia do Projeto**\n",
        "\n",
        "O projeto foi desenvolvido em cima de análise exploratória e estatística descritiva, sendo dividido em seis etapas: *entender o negócio, entender e preparar os dados, limpeza de dados, consultas em Pandas, Numpy e Seaborn, análise exploratória e estatística descritiva com comentários em markdowns.*\n",
        "\n",
        "---\n",
        "<img alt=\"Colaboratory logo\" width=\"100%\" src=\"https://advancedinstitute.ai/wp-content/uploads/2019/04/analise_dados-1170x500.png\">"
      ],
      "metadata": {
        "id": "83RclUpOxZtr"
      }
    },
    {
      "cell_type": "markdown",
      "metadata": {
        "id": "4YtdrPKOVZfK"
      },
      "source": [
        "### **Entendendo o Negócio:** \n",
        "\n",
        "Serão apresentados os objetivos do negócio, avaliando quais os problemas a serem resolvidos, bem como determinando mais dois problemas de negócio que agreguem valor e ajudem na tomada de decisões significativas."
      ]
    },
    {
      "cell_type": "markdown",
      "metadata": {
        "id": "XWqdgEqVdE5j"
      },
      "source": [
        "**Objetivos da ANP**\n",
        "\n",
        "Agência Nacional do Petróleo, Gás Natural e Biocombustíveis (ANP), criada em 1997 pela lei n º 9.478, é o órgão regulador das atividades que integram as indústrias de ***petróleo e gás natural e de biocombustíveis*** no Brasil. Suas atividades foram iniciadas em 14 de janeiro de 1998. Vinculada ao Ministério das Minas e Energia é a autarquia federal responsável pela execução da política nacional para o setor.\n",
        "\n",
        "---\n",
        "\n",
        "\n",
        "***Objetivos estratégicos da ANP:***\n",
        "\n",
        "* Incentivar a exploração e a produção de petróleo e gás natural em benefício da\n",
        "sociedade brasileira;\n",
        "* Atuar para o desenvolvimento de um mercado de gás natural que atenda os interesses\n",
        "da sociedade;\n",
        "* Fomentar investimentos na produção, distribuição e revenda de derivados de petróleo\n",
        "e de biocombustíveis;\n",
        "* Ampliar o diálogo com os agentes regulados e a sociedade;\n",
        "* Atualizar a regulamentação da ANP, minimizando barreiras ao investimento e\n",
        "reduzindo os custos impostos pela regulação;\n",
        "* Alocar e utilizar recursos com eficiência e transparência;\n",
        "* Implementar a gestão de projetos na ANP;\n",
        "* Promover a produtividade e a simplificação dos processos organizacionais;\n",
        "* Utilizar soluções de TI e inovação como promotoras de produtividade nas atividades\n",
        "da ANP\n",
        "\n",
        "\n",
        "---\n",
        "<center><img alt=\"Analisando Airbnb\" width=\"30%\" src=\"https://upload.wikimedia.org/wikipedia/commons/9/96/Anp-logo-3.png\"></center>\n",
        "\n",
        "---\n",
        "\n",
        "\n",
        "**Quais os problemas a serem resolvidos?**\n",
        "\n",
        "Neste projeto busca-se resolver os seguintes problemas:\n",
        "\n",
        "1. Como se comportaram o preço dos combustíveis durante os dois meses\n",
        "citados? Os valores do etanol e da gasolina tiveram uma tendência de\n",
        "queda ou diminuição?\n",
        "2. Qual o preço médio da gasolina e do etanol nesses dois meses?\n",
        "3. Quais os 5 estados com o preço médio da gasolina e do etanol mais\n",
        "caros?\n",
        "4. Qual o preço médio da gasolina e do etanol por estado?\n",
        "5. Qual o município que possui o menor preço para a gasolina e para o\n",
        "etanol?\n",
        "6. Qual o município que possui o maior preço para a gasolina e para o\n",
        "etanol?\n",
        "7. Qual a região que possui o maior valor médio da gasolina?\n",
        "8. Qual a região que possui o menor valor médio do etanol?\n",
        "9. Há alguma correlação entre o valor do combustível (gasolina e etanol) e a\n",
        "região onde ele é vendido?\n",
        "10. Há alguma correlação entre o valor do combustível (gasolina e etanol) e a\n",
        "bandeira que vende ele?\n",
        "\n",
        "\n",
        "---\n",
        "\n",
        "\n",
        "**Métricas para aferição do sucesso do projeto**\n",
        "\n",
        "* Respostas para os 10 problemas apresentados no item anterior, considerando os dados de junho e julho de 2021 disponibilizados pela ANP, além da formulação de duas consultas extras com informações relevantes que poderão ser utilizadas na busca da solução dos problemas."
      ]
    },
    {
      "cell_type": "markdown",
      "metadata": {
        "id": "K-JRO__xYvxc"
      },
      "source": [
        "### **Entendendo os Dados:**\n",
        "\n",
        "Estaremos coletando os dados iniciais no portal da ANP, estruturando os referidos dados, bem como explorando os dados com as estatísticas descritivas.\n"
      ]
    }
  ]
}